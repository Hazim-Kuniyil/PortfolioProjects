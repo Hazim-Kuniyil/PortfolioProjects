{
 "cells": [
  {
   "cell_type": "markdown",
   "id": "5fb04bc2-d420-402d-ac53-f5aa7bc5d411",
   "metadata": {},
   "source": [
    "# Deployable Sentiment Analysis Using __[Hugging Face 🤗](https://huggingface.co/)__ Transformer Model\n",
    "\n",
    "- The model used in this project is: __[distilbert-base-uncased-finetuned-sst-2-english](https://huggingface.co/distilbert-base-uncased-finetuned-sst-2-english?text=I+used+to+play+this+game+years+ago+and+loved+it.+I+found+this+did+not+work+on+my+computer+even+though+it+said+it+would+work+with+Windows+7.#training)__\n",
    "- The dataset used in this project is a __[large crawl of amazon reviews](https://cseweb.ucsd.edu/~jmcauley/datasets.html#amazon_reviews)__\n"
   ]
  },
  {
   "cell_type": "code",
   "execution_count": 71,
   "id": "885ebc9f-0b2d-42cf-a756-508312c92243",
   "metadata": {},
   "outputs": [],
   "source": [
    "from ipywidgets import FloatProgress\n",
    "import torch\n",
    "from transformers import DistilBertTokenizer, DistilBertForSequenceClassification\n",
    "import json\n",
    "import pandas as pd\n",
    "import os"
   ]
  },
  {
   "cell_type": "markdown",
   "id": "77db1e56-bae0-4239-bb15-ce83d1fd84ab",
   "metadata": {},
   "source": [
    "#### Reading and preprocessing the review data"
   ]
  },
  {
   "cell_type": "code",
   "execution_count": 28,
   "id": "6305a4f3-dfd3-4551-bf96-a0e15eb0eafd",
   "metadata": {},
   "outputs": [],
   "source": [
    "reviews = []\n",
    "with open('data/Video_Games.json') as f:\n",
    "    for line in f:\n",
    "        reviews.append(json.loads(line))\n",
    "    # data = json.load(f)"
   ]
  },
  {
   "cell_type": "code",
   "execution_count": 42,
   "id": "00c544ff-2890-41a8-a92a-5c55476ec922",
   "metadata": {},
   "outputs": [],
   "source": [
    "# Filtering out any reviews that aren't complete\n",
    "useful_keys = ['overall', 'reviewText', 'summary']\n",
    "reviews = [review for review in reviews if all(key in review for key in useful_keys)]\n",
    "\n",
    "# Removing all data fields except useful ones\n",
    "reviews = [{key: review[key] for key in useful_keys} for review in reviews]\n",
    "\n",
    "\n",
    "df = pd.DataFrame.from_records(reviews)\n"
   ]
  },
  {
   "cell_type": "markdown",
   "id": "96a02041-cf7d-4dd0-a4c7-e339f7485cca",
   "metadata": {},
   "source": [
    "#### Downloading the model and it's tokenizer\n",
    "- BERT is a transformer model that is trained bidirectionally\n",
    "    - Previous transformer models were only trained from left to right\n",
    "- DistilBert is a distilled version of the popular BERT model. \n",
    "    - The distilling process allows the model to run 60% faster in exchange for losing 3% accuracy.\n",
    "    "
   ]
  },
  {
   "cell_type": "code",
   "execution_count": 43,
   "id": "3f7e110b-710c-4763-8d5f-e2c8d82fb3bb",
   "metadata": {},
   "outputs": [
    {
     "data": {
      "application/vnd.jupyter.widget-view+json": {
       "model_id": "efcd7886e40c4200be7779f2ead29014",
       "version_major": 2,
       "version_minor": 0
      },
      "text/plain": [
       "Downloading (…)solve/main/vocab.txt: 0.00B [00:00, ?B/s]"
      ]
     },
     "metadata": {},
     "output_type": "display_data"
    },
    {
     "data": {
      "application/vnd.jupyter.widget-view+json": {
       "model_id": "bff99edea0a8461e80a520339fe3fc92",
       "version_major": 2,
       "version_minor": 0
      },
      "text/plain": [
       "Downloading (…)okenizer_config.json:   0%|          | 0.00/28.0 [00:00<?, ?B/s]"
      ]
     },
     "metadata": {},
     "output_type": "display_data"
    },
    {
     "data": {
      "application/vnd.jupyter.widget-view+json": {
       "model_id": "6e85a735e1ec4aa48bdf55540e939e76",
       "version_major": 2,
       "version_minor": 0
      },
      "text/plain": [
       "Downloading (…)lve/main/config.json:   0%|          | 0.00/483 [00:00<?, ?B/s]"
      ]
     },
     "metadata": {},
     "output_type": "display_data"
    },
    {
     "data": {
      "application/vnd.jupyter.widget-view+json": {
       "model_id": "696294407e854d5183dae7dcd53dd240",
       "version_major": 2,
       "version_minor": 0
      },
      "text/plain": [
       "Downloading (…)lve/main/config.json:   0%|          | 0.00/629 [00:00<?, ?B/s]"
      ]
     },
     "metadata": {},
     "output_type": "display_data"
    },
    {
     "data": {
      "application/vnd.jupyter.widget-view+json": {
       "model_id": "6438123630824b5789adb5df6a360430",
       "version_major": 2,
       "version_minor": 0
      },
      "text/plain": [
       "Downloading model.safetensors:   0%|          | 0.00/268M [00:00<?, ?B/s]"
      ]
     },
     "metadata": {},
     "output_type": "display_data"
    }
   ],
   "source": [
    "tokenizer = DistilBertTokenizer.from_pretrained(\"distilbert-base-uncased\")\n",
    "model = DistilBertForSequenceClassification.from_pretrained(\"distilbert-base-uncased-finetuned-sst-2-english\")\n"
   ]
  },
  {
   "cell_type": "markdown",
   "id": "d6efef28-e604-4910-a76c-79211e94ad16",
   "metadata": {},
   "source": [
    "#### Applying the model to samples of the data set\n",
    "- Only a sample of the data set is analyzed in order to save resources"
   ]
  },
  {
   "cell_type": "code",
   "execution_count": 87,
   "id": "db866c83-d356-45bd-926b-1f7911fba872",
   "metadata": {},
   "outputs": [],
   "source": [
    "def analyze_review(review, print_response=True):\n",
    "    inputs = tokenizer(review['reviewText'], return_tensors=\"pt\", max_length=512, truncation=True)\n",
    "    with torch.no_grad():\n",
    "        logits = model(**inputs).logits\n",
    "\n",
    "    predicted_class_id = logits.argmax().item()\n",
    "    predicted_sentiment = model.config.id2label[predicted_class_id]\n",
    "    \n",
    "    if print_response:\n",
    "        print(f\"\\nCustomer Rating: {review['overall']}\")\n",
    "        print(f\"Predicted Sentiment: {predicted_sentiment}\")\n",
    "        print(f\"Review Text: {review['reviewText']}\\n\")\n",
    "\n",
    "    return predicted_sentiment\n"
   ]
  },
  {
   "cell_type": "code",
   "execution_count": 53,
   "id": "76e717c9-e6ce-492a-99e9-a02c5550b613",
   "metadata": {},
   "outputs": [
    {
     "name": "stdout",
     "output_type": "stream",
     "text": [
      "Review: The game itself worked great but the story line videos would never play, the sound was fine but the picture would freeze and go black every time.\n",
      "Customer rating: 3.0\n",
      "Sentiment rating: NEGATIVE\n"
     ]
    },
    {
     "data": {
      "text/plain": [
       "'NEGATIVE'"
      ]
     },
     "execution_count": 53,
     "metadata": {},
     "output_type": "execute_result"
    }
   ],
   "source": [
    "analyze_review(df.iloc[1], print_response=True)"
   ]
  },
  {
   "cell_type": "code",
   "execution_count": 89,
   "id": "b6cfa10a-be0b-4bf7-8fe0-6a57f70db80f",
   "metadata": {},
   "outputs": [
    {
     "name": "stdout",
     "output_type": "stream",
     "text": [
      "\n",
      "Customer Rating: 1.0\n",
      "Predicted Sentiment: NEGATIVE\n",
      "Review Text: The charging port was broken\n",
      "\n",
      "─────────────────────────\n",
      "\n",
      "Customer Rating: 5.0\n",
      "Predicted Sentiment: POSITIVE\n",
      "Review Text: I actually like this one more than the power adapter that came with my Wii.  This has an indicator light that lets me know if it is plugged in.  It also has a Velcro strap for the cord that is very convenient.  The Wii has not had any problem with this third-party power adapter; it works completely normal.  I would highly recommend this, even over the one that comes with the Wii.\n",
      "\n",
      "─────────────────────────\n",
      "\n",
      "Customer Rating: 3.0\n",
      "Predicted Sentiment: NEGATIVE\n",
      "Review Text: I have played plenty of games in my days and this game has some pros and cons.\n",
      "\n",
      "PROS:\n",
      "Beautiful graphics. It is like I am in a movie where I am in control. Especially the water. Crystal clear, seems as if I am really swimming throughout the deep blue sea. Acres of grass, city scape is breath taking. I literally will just walk around and tour the open world just to enjoy the life like visuals of this game.\n",
      "Physics of the game are spot on being realistic.\n",
      "Grappling hook can be fun to play with. Attach the hook to two cars that are apart and use the magnetic reel to pull them into an explosion of awesomeness!\n",
      "Wing suit and parachute give you great heights and help you explore during game play. These are upgradeable as well as your retractable hook shot.\n",
      "Explosions are everywhere! Create mayhem against the enemy as you blow up s*** with rocket launcher, grenades, oh my!\n",
      "\n",
      "Cons:\n",
      "Alright, once again the load times are horrible. Takes 2 to 3 minutes to load. If you die or are going into a mission or challenge, prepare to take a bathroom break or video game unrelated as you wait. This is 2015. Can we please establish a way to prevent load times being this long?\n",
      "Game play is repetive and can become dull. Shoot, shoot, fly, fly, chute, chute, boom, boom. You get the picture. Nothing interesting here to a seasoned gamer.\n",
      "Story is not that interesting. I don't really care much about the characters involved in the story. There is really no emotional grasp for the player to actually latch on to anything.\n",
      "Nothing to look forward to. The whole idea behind getting a game is to look forward to doing something worth wild in the future missions or story. Seems you just continue doing the same s*** over and over again with different weapons, upgrades, vehicles.\n",
      "Vehicles like motorbikes are a pain to drive. They feel way too sensitive to turning and hitting a small rock has your character flying into a field.\n",
      "Guns are annoyingly the same. They don't feel different when upgrading.\n",
      "There is no easy, intermediate or hard difficulty. Not smart to have a lack of this in your game. It can piss off hardcore gamers if it's too easy and push away beginners if it is too hard.\n",
      "\n",
      "That's my list for the pros and cons. Please rent this if curious about it. I would honestly wait until it goes down at least 50% of the price.\n",
      "\n",
      "─────────────────────────\n",
      "\n",
      "Customer Rating: 5.0\n",
      "Predicted Sentiment: POSITIVE\n",
      "Review Text: It was just what i was looking for and it was worth it and it plays great buy this game\n",
      "\n",
      "─────────────────────────\n",
      "\n",
      "Customer Rating: 5.0\n",
      "Predicted Sentiment: POSITIVE\n",
      "Review Text: Read the Title. This is one the the best games there is to play. with almost perfect graphics,cool game play, great sound,a great storyline and the ability to change your entire armys color sceme. This game exceeds what I and most people expected for a game from games-workshop (remember firewarrior?)The main downside to this game is the lack of gameplay (common flaw of games from relic). There is only 1 campain of around 16 scenerios (although they take a long time to beat) and 21 small maps.\n",
      "Now that my review out of the way Ill just like to say to the people that think that this game is like or based on starcraft. Ill tell you that the creators of this game did not copy starcraft becuse the races of eldar,space marine, orks, and chaos where made over 10 years before starcraft came out (but there are some guys in warhammer 40k that seem extremely  close to the zerg (Tyranids) and the protoss (Tau) you can check out what I mean by going to the games workshop websight [...]\n",
      "\n",
      "─────────────────────────\n",
      "\n",
      "Customer Rating: 5.0\n",
      "Predicted Sentiment: POSITIVE\n",
      "Review Text: Got it for my boyfriend and he says he loves it and works good!\n",
      "\n",
      "─────────────────────────\n",
      "\n",
      "Customer Rating: 3.0\n",
      "Predicted Sentiment: NEGATIVE\n",
      "Review Text: logitech product's are very good.i have about four on my computer web cam,5.1 speaker's ex.. but this one don't get a four star from me.\n",
      "\n",
      "─────────────────────────\n",
      "\n",
      "Customer Rating: 5.0\n",
      "Predicted Sentiment: POSITIVE\n",
      "Review Text: Literally perfect\n",
      "\n",
      "─────────────────────────\n",
      "\n",
      "Customer Rating: 1.0\n",
      "Predicted Sentiment: NEGATIVE\n",
      "Review Text: Yuck. That's all I can think to say for this game. Yuck.\n",
      "\n",
      "Having been a hard-core Thief player back in the day, I was super excited to see a revamped version of it. Especially with what we're able to do with next-gen technology. But, none of that mattered with this version... because the ball was dropped at every level.\n",
      "\n",
      "The game play is just flat-out boring. The main character, Garrett, and his little girl-toy, are just flat-out ugly. Hideous, in fact. I have no idea what the storyline is or who the bad guy is. I can't find even half of the items to steal... not that it matters anyway, because I don't care to buy anything because the game is so boring.\n",
      "\n",
      "Did I mention the game is boring?  I don't mean to be a \"hater,\" but this franchise has a time-honored tradition of excellence. And this version is such a terrible disappointment. My advice is, don't bother. Find another game for the PS4. Maybe even one you wouldn't like. It'll still be better than this one.\n",
      "\n",
      "The game definitely lives up to it's title, though, cuz it definitely stole my money.\n",
      "\n",
      "─────────────────────────\n",
      "\n",
      "Customer Rating: 5.0\n",
      "Predicted Sentiment: POSITIVE\n",
      "Review Text: grandson is really enjoying these games.\n",
      "\n",
      "─────────────────────────\n"
     ]
    }
   ],
   "source": [
    "sample_size = 10\n",
    "samples = df.sample(sample_size)\n",
    "for row in samples.iterrows():\n",
    "    analyze_review(row[1])\n",
    "    print(u'\\u2500' * 25)\n",
    "    "
   ]
  },
  {
   "cell_type": "markdown",
   "id": "52a0fef2-42f9-4f7d-96e7-d7f0047037cb",
   "metadata": {},
   "source": [
    "Citation for the dataset:\n",
    "- Ups and downs: Modeling the visual evolution of fashion trends with one-class collaborative filtering R. He, J. McAuley WWW, 2016\n",
    "- image-based recommendations on styles and substitutes J. McAuley, C. Targett, J. Shi, A. van den Hengel SIGIR, 2015\n",
    "\n",
    "Citation for DistilBert model:\n",
    "- Victor Sanh, Lysandre Debut, Julien Chaumond, & Thomas Wolf (2019). DistilBERT, a distilled version of BERT: smaller, faster, cheaper and lighter. ArXiv, abs/1910.01108.\n",
    "\n",
    "\n"
   ]
  }
 ],
 "metadata": {
  "kernelspec": {
   "display_name": "Python 3 (ipykernel)",
   "language": "python",
   "name": "python3"
  },
  "language_info": {
   "codemirror_mode": {
    "name": "ipython",
    "version": 3
   },
   "file_extension": ".py",
   "mimetype": "text/x-python",
   "name": "python",
   "nbconvert_exporter": "python",
   "pygments_lexer": "ipython3",
   "version": "3.10.7"
  }
 },
 "nbformat": 4,
 "nbformat_minor": 5
}
